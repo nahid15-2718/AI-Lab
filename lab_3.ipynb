{
  "nbformat": 4,
  "nbformat_minor": 0,
  "metadata": {
    "colab": {
      "name": "lab-3.ipynb",
      "provenance": [],
      "collapsed_sections": [],
      "authorship_tag": "ABX9TyONG6Jnl4lFRwhNRJqRHWD6",
      "include_colab_link": true
    },
    "kernelspec": {
      "display_name": "Python 3",
      "name": "python3"
    },
    "language_info": {
      "name": "python"
    }
  },
  "cells": [
    {
      "cell_type": "markdown",
      "metadata": {
        "id": "view-in-github",
        "colab_type": "text"
      },
      "source": [
        "<a href=\"https://colab.research.google.com/github/nahid15-2718/AI-Lab/blob/main/lab_3.ipynb\" target=\"_parent\"><img src=\"https://colab.research.google.com/assets/colab-badge.svg\" alt=\"Open In Colab\"/></a>"
      ]
    },
    {
      "cell_type": "code",
      "metadata": {
        "id": "uNyC3A2T2Mdp"
      },
      "source": [
        "courses = []\n",
        "choice = 'random'"
      ],
      "execution_count": null,
      "outputs": []
    },
    {
      "cell_type": "code",
      "metadata": {
        "id": "X_C5HTMx_tFu"
      },
      "source": [
        "def line():\n",
        "    print('---------------------------------------------')"
      ],
      "execution_count": null,
      "outputs": []
    },
    {
      "cell_type": "code",
      "metadata": {
        "id": "MCx-ErXS_3Ja"
      },
      "source": [
        "def show_menu():\n",
        "    line()\n",
        "    print('Options')\n",
        "    line()\n",
        "    print('1. Add semester course')\n",
        "    print('2. Delete a course')\n",
        "    print('3. View all courses')\n",
        "    print('4. Exit')\n",
        "    line()\n",
        "    choice = input('Enter your choice: ')\n",
        "    return choice"
      ],
      "execution_count": null,
      "outputs": []
    },
    {
      "cell_type": "code",
      "metadata": {
        "colab": {
          "base_uri": "https://localhost:8080/"
        },
        "id": "skczo89iBEov",
        "outputId": "0e66b6a5-e65a-48b4-9637-ca1bd2a8ed4e"
      },
      "source": [
        "while choice!= '4':\n",
        "    choice = show_menu()\n",
        "    if choice == '1':\n",
        "        item = input('Course Name that you want to add: ')\n",
        "        courses.append(item)\n",
        "        print('Course ',item,' added')\n",
        "    elif choice =='2':\n",
        "        item = input('Write the course Name that you want to remove or  unenroll ? ')\n",
        "        if item in courses:\n",
        "            courses.remove(item)\n",
        "            print('Unrolled from ',item,' course')\n",
        "        else:\n",
        "            print('You are not enrolled in this course')\n",
        "    elif choice == '3':\n",
        "        print('List of all enrolled courses:')\n",
        "        for item in courses:\n",
        "            print(item)\n",
        "    elif choice == '4':\n",
        "        print('Goodbye!')\n",
        "    else:\n",
        "        print('Please enter one of 1,2,3 or 4')"
      ],
      "execution_count": null,
      "outputs": [
        {
          "output_type": "stream",
          "text": [
            "---------------------------------------------\n",
            "Options\n",
            "---------------------------------------------\n",
            "1. Add semester course\n",
            "2. Delete a course\n",
            "3. View all courses\n",
            "4. Exit\n",
            "---------------------------------------------\n",
            "Enter your choice: 1\n",
            "Course Name that you want to add: AI Lab\n",
            "Course  AI Lab  added\n",
            "---------------------------------------------\n",
            "Options\n",
            "---------------------------------------------\n",
            "1. Add semester course\n",
            "2. Delete a course\n",
            "3. View all courses\n",
            "4. Exit\n",
            "---------------------------------------------\n",
            "Enter your choice: 3\n",
            "List of all enrolled courses:\n",
            "AI Lab\n",
            "---------------------------------------------\n",
            "Options\n",
            "---------------------------------------------\n",
            "1. Add semester course\n",
            "2. Delete a course\n",
            "3. View all courses\n",
            "4. Exit\n",
            "---------------------------------------------\n",
            "Enter your choice: 2\n",
            "Write the course Name that you want to remove or  unenroll ? ai\n",
            "You are not enrolled in this course\n",
            "---------------------------------------------\n",
            "Options\n",
            "---------------------------------------------\n",
            "1. Add semester course\n",
            "2. Delete a course\n",
            "3. View all courses\n",
            "4. Exit\n",
            "---------------------------------------------\n",
            "Enter your choice: 5\n",
            "Please enter one of 1,2,3 or 4\n",
            "---------------------------------------------\n",
            "Options\n",
            "---------------------------------------------\n",
            "1. Add semester course\n",
            "2. Delete a course\n",
            "3. View all courses\n",
            "4. Exit\n",
            "---------------------------------------------\n",
            "Enter your choice: 4\n",
            "Goodbye!\n"
          ],
          "name": "stdout"
        }
      ]
    }
  ]
}